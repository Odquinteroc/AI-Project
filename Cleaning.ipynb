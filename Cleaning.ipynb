{
 "cells": [
  {
   "cell_type": "code",
   "execution_count": 1,
   "metadata": {},
   "outputs": [],
   "source": [
    "import numpy as np\n",
    "import os, cv2\n",
    "import re, random\n",
    "import matplotlib.pyplot as plt\n",
    "import seaborn as sns\n",
    "import tensorflow as tf\n"
   ]
  },
  {
   "cell_type": "code",
   "execution_count": 2,
   "metadata": {},
   "outputs": [],
   "source": [
    "columns = ['Apple__Healthy', 'Apple__Rotten', 'Banana__Healthy'] \n",
    "           \n",
    "Labelss =   ['Apple Healthy', 'Apple Rotten', 'Banana Healthy']   "
   ]
  },
  {
   "cell_type": "code",
   "execution_count": 3,
   "metadata": {},
   "outputs": [
    {
     "data": {
      "text/plain": [
       "\"columns = ['Apple__Healthy', 'Apple__Rotten', 'Banana__Healthy', 'Banana__Rotten', 'Bellpepper__Healthy', \\n           'Bellpepper__Rotten', 'Carrot__Healthy', 'Carrot__Rotten', 'Cucumber__Healthy', 'Cucumber__Rotten',\\n           'Grape__Healthy', 'Grape__Rotten', 'Guava__Healthy', 'Guava__Rotten', 'Jujube__Healthy', 'Jujube__Rotten',\\n           'Mango__Healthy', 'Mango__Rotten', 'Orange__Healthy', 'Orange__Rotten', 'Pomegranate__Healthy','Pomegranate__Rotten',\\n           'Potato__Healthy', 'Potato__Rotten', 'Strawberry__Healthy', 'Strawberry__Rotten', 'Tomato__Healthy', 'Tomato__Rotten'] \\n           \\nLabelss =   ['Apple Healthy', 'Apple Rotten', 'Banana Healthy', 'Banana Rotten', 'Bellpepper Healthy', \\n           'Bellpepper Rotten', 'Carrot Healthy', 'Carrot Rotten', 'Cucumber Healthy', 'Cucumber Rotten',\\n           'Grape Healthy', 'Grape Rotten', 'Guava Healthy', 'Guava Rotten', 'Jujube Healthy', 'Jujube Rotten',\\n           'Mango Healthy', 'Mango Rotten', 'Orange Healthy', 'Orange Rotten', 'Pomegranate Healthy','Pomegranate Rotten',\\n           'Potato Healthy', 'Potato Rotten', 'Strawberry__Healthy', 'Strawberry__Rotten', 'Tomato__Healthy', 'Tomato__Rotten']   \""
      ]
     },
     "execution_count": 3,
     "metadata": {},
     "output_type": "execute_result"
    }
   ],
   "source": [
    "\"\"\"columns = ['Apple__Healthy', 'Apple__Rotten', 'Banana__Healthy', 'Banana__Rotten', 'Bellpepper__Healthy', \n",
    "           'Bellpepper__Rotten', 'Carrot__Healthy', 'Carrot__Rotten', 'Cucumber__Healthy', 'Cucumber__Rotten',\n",
    "           'Grape__Healthy', 'Grape__Rotten', 'Guava__Healthy', 'Guava__Rotten', 'Jujube__Healthy', 'Jujube__Rotten',\n",
    "           'Mango__Healthy', 'Mango__Rotten', 'Orange__Healthy', 'Orange__Rotten', 'Pomegranate__Healthy','Pomegranate__Rotten',\n",
    "           'Potato__Healthy', 'Potato__Rotten', 'Strawberry__Healthy', 'Strawberry__Rotten', 'Tomato__Healthy', 'Tomato__Rotten'] \n",
    "           \n",
    "Labelss =   ['Apple Healthy', 'Apple Rotten', 'Banana Healthy', 'Banana Rotten', 'Bellpepper Healthy', \n",
    "           'Bellpepper Rotten', 'Carrot Healthy', 'Carrot Rotten', 'Cucumber Healthy', 'Cucumber Rotten',\n",
    "           'Grape Healthy', 'Grape Rotten', 'Guava Healthy', 'Guava Rotten', 'Jujube Healthy', 'Jujube Rotten',\n",
    "           'Mango Healthy', 'Mango Rotten', 'Orange Healthy', 'Orange Rotten', 'Pomegranate Healthy','Pomegranate Rotten',\n",
    "           'Potato Healthy', 'Potato Rotten', 'Strawberry__Healthy', 'Strawberry__Rotten', 'Tomato__Healthy', 'Tomato__Rotten']   \"\"\""
   ]
  },
  {
   "cell_type": "code",
   "execution_count": 4,
   "metadata": {},
   "outputs": [
    {
     "name": "stdout",
     "output_type": "stream",
     "text": [
      "Loading -->  Apple__Healthy\n",
      "Loading -->  Apple__Rotten\n",
      "Loading -->  Banana__Healthy\n"
     ]
    }
   ],
   "source": [
    "images = []\n",
    "labels = []\n",
    "img_size = 100\n",
    "\n",
    "count = 0\n",
    "for folder in columns:\n",
    "    print('Loading --> ', folder)\n",
    "    for img in os.listdir('../archive/Fruit And Vegetable Diseases Dataset' + '/' + folder):\n",
    "        image = cv2.imread('../archive/Fruit And Vegetable Diseases Dataset' + '/' + folder + '/' + img)\n",
    "        image = cv2.resize(image, (img_size, img_size)) # Changing the img size\n",
    "        image_gray = cv2.cvtColor(image, cv2.COLOR_BGR2GRAY) # Transforming the img in gray scale\n",
    "        image_gray = image_gray.reshape(img_size, img_size, 1) # Changing shape to 100, 100, 1\n",
    "        images.append(image_gray)\n",
    "        labels.append(count)\n",
    "    count += 1"
   ]
  },
  {
   "cell_type": "code",
   "execution_count": 5,
   "metadata": {},
   "outputs": [
    {
     "name": "stdout",
     "output_type": "stream",
     "text": [
      "7368\n",
      "7368\n",
      "[0, 1, 2]\n"
     ]
    }
   ],
   "source": [
    "print(len(images))\n",
    "print(len(labels))\n",
    "\n",
    "\n",
    "unique_labels = list(set(labels))\n",
    "print(unique_labels)"
   ]
  },
  {
   "cell_type": "code",
   "execution_count": 6,
   "metadata": {},
   "outputs": [],
   "source": [
    "training_data = []\n",
    "for img, label in zip(images, labels):\n",
    "    training_data.append([img, label])"
   ]
  },
  {
   "cell_type": "code",
   "execution_count": 7,
   "metadata": {},
   "outputs": [],
   "source": [
    "#training_data[3000]"
   ]
  },
  {
   "cell_type": "code",
   "execution_count": 8,
   "metadata": {},
   "outputs": [],
   "source": [
    "X = []\n",
    "y = []\n",
    "\n",
    "for img , lab in training_data:\n",
    "    X.append(img)\n",
    "    y.append(lab)"
   ]
  },
  {
   "cell_type": "code",
   "execution_count": 9,
   "metadata": {},
   "outputs": [],
   "source": [
    "X = np.array(X).astype(float)/255\n"
   ]
  },
  {
   "cell_type": "code",
   "execution_count": 10,
   "metadata": {},
   "outputs": [],
   "source": [
    "y = np.array(y)"
   ]
  },
  {
   "cell_type": "code",
   "execution_count": 11,
   "metadata": {},
   "outputs": [],
   "source": [
    "X_data = np.save('X.npy', X)\n",
    "y_data = np.save('y.npy', y)"
   ]
  },
  {
   "cell_type": "code",
   "execution_count": 12,
   "metadata": {},
   "outputs": [
    {
     "data": {
      "text/plain": [
       "(7368, 100, 100, 1)"
      ]
     },
     "execution_count": 12,
     "metadata": {},
     "output_type": "execute_result"
    }
   ],
   "source": [
    "X.shape"
   ]
  },
  {
   "cell_type": "code",
   "execution_count": 27,
   "metadata": {},
   "outputs": [],
   "source": [
    "import numpy as np\n",
    "np.savez('CLean_data.npz', \n",
    "         X=X, \n",
    "         y=y)"
   ]
  },
  {
   "cell_type": "markdown",
   "metadata": {},
   "source": [
    "(Number of img, size, size, 1D gray scale)"
   ]
  },
  {
   "cell_type": "markdown",
   "metadata": {},
   "source": [
    "featuring engineer"
   ]
  }
 ],
 "metadata": {
  "kernelspec": {
   "display_name": "Python 3",
   "language": "python",
   "name": "python3"
  },
  "language_info": {
   "codemirror_mode": {
    "name": "ipython",
    "version": 3
   },
   "file_extension": ".py",
   "mimetype": "text/x-python",
   "name": "python",
   "nbconvert_exporter": "python",
   "pygments_lexer": "ipython3",
   "version": "3.11.5"
  }
 },
 "nbformat": 4,
 "nbformat_minor": 2
}
