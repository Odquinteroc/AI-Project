{
  "cells": [
    {
      "cell_type": "code",
      "execution_count": 1,
      "metadata": {
        "id": "fBaxH5G96bR3"
      },
      "outputs": [],
      "source": [
        "#loading the dataset"
      ]
    },
    {
      "cell_type": "code",
      "execution_count": 2,
      "metadata": {
        "colab": {
          "base_uri": "https://localhost:8080/"
        },
        "id": "3UBGS9i8Y5lw",
        "outputId": "9a065fcb-a618-45c2-a9d9-0b9b065ff016"
      },
      "outputs": [
        {
          "output_type": "execute_result",
          "data": {
            "text/plain": [
              "['Fruit And Vegetable Diseases Dataset']"
            ]
          },
          "metadata": {},
          "execution_count": 2
        }
      ],
      "source": [
        "import zipfile\n",
        "import os\n",
        "\n",
        "path = '/content/drive/MyDrive/archive (16).zip'\n",
        "extract_path = '/content/ex_images'\n",
        "os.makedirs(extract_path, exist_ok=True)\n",
        "\n",
        "with zipfile.ZipFile(path, 'r') as zip_ref:\n",
        "    zip_ref.extractall(extract_path)\n",
        "\n",
        "os.listdir(extract_path)"
      ]
    },
    {
      "cell_type": "code",
      "execution_count": 3,
      "metadata": {
        "id": "mE8SpvacV7lR"
      },
      "outputs": [],
      "source": [
        "import os\n",
        "import cv2\n",
        "import numpy as np\n",
        "import matplotlib.pyplot as plt\n",
        "from sklearn.model_selection import train_test_split\n",
        "from sklearn.svm import SVC\n",
        "from sklearn.metrics import accuracy_score, classification_report\n",
        "from sklearn.utils import shuffle"
      ]
    },
    {
      "cell_type": "code",
      "execution_count": 4,
      "metadata": {
        "id": "gl93La4BV-J3"
      },
      "outputs": [],
      "source": [
        "# List of fruits and their categories\n",
        "columns = [\n",
        "    'Apple__Healthy', 'Apple__Rotten',\n",
        "    'Banana__Healthy', 'Banana__Rotten',\n",
        "    'Bellpepper__Healthy', 'Bellpepper__Rotten',\n",
        "    'Carrot__Healthy', 'Carrot__Rotten',\n",
        "    'Cucumber__Healthy', 'Cucumber__Rotten',\n",
        "    'Grape__Healthy', 'Grape__Rotten',\n",
        "    'Guava__Healthy', 'Guava__Rotten',\n",
        "    'Jujube__Healthy', 'Jujube__Rotten',\n",
        "    'Mango__Healthy', 'Mango__Rotten',\n",
        "    'Orange__Healthy', 'Orange__Rotten',\n",
        "    'Pomegranate__Healthy', 'Pomegranate__Rotten',\n",
        "    'Potato__Healthy', 'Potato__Rotten',\n",
        "    'Strawberry__Healthy', 'Strawberry__Rotten',\n",
        "    'Tomato__Healthy', 'Tomato__Rotten'\n",
        "]"
      ]
    },
    {
      "cell_type": "code",
      "execution_count": 5,
      "metadata": {
        "id": "M820j-AgejRO"
      },
      "outputs": [],
      "source": [
        "# Define the main fruit categories\n",
        "fruit_categories = ['Apple', 'Banana', 'Bellpepper', 'Carrot', 'Cucumber', 'Grape',\n",
        "                    'Guava', 'Jujube', 'Mango', 'Orange', 'Pomegranate', 'Potato',\n",
        "                    'Strawberry', 'Tomato']"
      ]
    },
    {
      "cell_type": "code",
      "execution_count": 6,
      "metadata": {
        "id": "SCxyZQ8CWGFq"
      },
      "outputs": [],
      "source": [
        "# Function to allow user to select a fruit type\n",
        "def select_fruit_type():\n",
        "    print(\"Select a fruit type:\")\n",
        "    for i, fruit in enumerate(fruit_categories, 1):\n",
        "        print(f\"{i}. {fruit}\")\n",
        "    try:\n",
        "        choice = int(input(\"Enter the number corresponding to the fruit type: \")) - 1\n",
        "        if 0 <= choice < len(fruit_categories):\n",
        "            return fruit_categories[choice]\n",
        "        else:\n",
        "            print(\"Invalid choice. Please enter a valid number.\")\n",
        "            return None\n",
        "    except ValueError:\n",
        "        print(\"Invalid input. Please enter a number.\")\n",
        "        return None\n"
      ]
    },
    {
      "cell_type": "code",
      "execution_count": 7,
      "metadata": {
        "id": "l2mTQap1arPV"
      },
      "outputs": [],
      "source": [
        "# Function to load images and labels for a selected fruit type\n",
        "def load_images(base_path, fruit_type):\n",
        "    healthy_images = []\n",
        "    rotten_images = []\n",
        "    img_size = 100\n",
        "\n",
        "    # Load healthy images\n",
        "    healthy_path = os.path.join(base_path, f\"{fruit_type}__Healthy\")\n",
        "    for img in os.listdir(healthy_path):\n",
        "        image_path = os.path.join(healthy_path, img)\n",
        "        image = cv2.imread(image_path)\n",
        "        if image is not None:\n",
        "            image = cv2.resize(image, (img_size, img_size))\n",
        "            image_gray = cv2.cvtColor(image, cv2.COLOR_BGR2GRAY)\n",
        "            image_gray = image_gray.reshape(img_size, img_size, 1)\n",
        "            healthy_images.append(image_gray)\n",
        "\n",
        "    # Load rotten images\n",
        "    rotten_path = os.path.join(base_path, f\"{fruit_type}__Rotten\")\n",
        "    for img in os.listdir(rotten_path):\n",
        "        image_path = os.path.join(rotten_path, img)\n",
        "        image = cv2.imread(image_path)\n",
        "        if image is not None:\n",
        "            image = cv2.resize(image, (img_size, img_size))\n",
        "            image_gray = cv2.cvtColor(image, cv2.COLOR_BGR2GRAY)\n",
        "            image_gray = image_gray.reshape(img_size, img_size, 1)\n",
        "            rotten_images.append(image_gray)\n",
        "\n",
        "    # Create labels\n",
        "    healthy_labels = [0] * len(healthy_images)  # 0 for healthy\n",
        "    rotten_labels = [1] * len(rotten_images)    # 1 for rotten\n",
        "\n",
        "    # Combine images and labels\n",
        "    images = np.array(healthy_images + rotten_images)\n",
        "    labels = np.array(healthy_labels + rotten_labels)\n",
        "\n",
        "    return images, labels\n"
      ]
    },
    {
      "cell_type": "code",
      "execution_count": 8,
      "metadata": {
        "colab": {
          "base_uri": "https://localhost:8080/"
        },
        "id": "45eaW3VJV3gH",
        "outputId": "71c74dfd-5fe8-4089-e392-5e4609522db7"
      },
      "outputs": [
        {
          "output_type": "stream",
          "name": "stdout",
          "text": [
            "Select a fruit type:\n",
            "1. Apple\n",
            "2. Banana\n",
            "3. Bellpepper\n",
            "4. Carrot\n",
            "5. Cucumber\n",
            "6. Grape\n",
            "7. Guava\n",
            "8. Jujube\n",
            "9. Mango\n",
            "10. Orange\n",
            "11. Pomegranate\n",
            "12. Potato\n",
            "13. Strawberry\n",
            "14. Tomato\n",
            "Enter the number corresponding to the fruit type: 1\n",
            "Accuracy: 0.73\n",
            "              precision    recall  f1-score   support\n",
            "\n",
            "           0       0.68      0.72      0.70       477\n",
            "           1       0.77      0.73      0.75       597\n",
            "\n",
            "    accuracy                           0.73      1074\n",
            "   macro avg       0.73      0.73      0.73      1074\n",
            "weighted avg       0.73      0.73      0.73      1074\n",
            "\n",
            "Enter the path to your test image: 1\n",
            "Invalid image path.\n"
          ]
        }
      ],
      "source": [
        "if __name__ == \"__main__\":\n",
        "    selected_fruit = select_fruit_type()\n",
        "    if not selected_fruit:\n",
        "        exit()\n",
        "\n",
        "    # Load images and labels for the selected fruit type\n",
        "    base_path = '/content/ex_images/Fruit And Vegetable Diseases Dataset'\n",
        "    images, labels = load_images(base_path, selected_fruit)\n",
        "\n",
        "    # Convert lists to numpy arrays\n",
        "    X = np.array(images).astype(float) / 255  # Normalize images\n",
        "    y = np.array(labels)\n",
        "\n",
        "    # Shuffle the data\n",
        "    X, y = shuffle(X, y, random_state=42)\n",
        "\n",
        "    # Splitting data into training and test sets\n",
        "    X_train, X_test, y_train, y_test = train_test_split(X, y, test_size=0.2, random_state=42)\n",
        "\n",
        "    # Reshape images to flatten them into 1D arrays\n",
        "    X_train_flattened = X_train.reshape(X_train.shape[0], -1)\n",
        "    X_test_flattened = X_test.reshape(X_test.shape[0], -1)\n",
        "\n",
        "    # Initialize SVM model\n",
        "    svm_model = SVC(kernel='linear', random_state=42)\n",
        "\n",
        "    # Train the SVM model\n",
        "    svm_model.fit(X_train_flattened, y_train)\n",
        "\n",
        "    # Predict on the test set\n",
        "    y_pred = svm_model.predict(X_test_flattened)\n",
        "\n",
        "    # Calculate accuracy\n",
        "    accuracy = accuracy_score(y_test, y_pred)\n",
        "    print(f'Accuracy: {accuracy:.2f}')\n",
        "\n",
        "    # Generate classification report\n",
        "    print(classification_report(y_test, y_pred))\n",
        "\n",
        "    # Allow user to test the model with a custom image\n",
        "    test_image_path = input(\"Enter the path to your test image: \")\n",
        "    if os.path.exists(test_image_path):\n",
        "        test_image = cv2.imread(test_image_path)\n",
        "        test_image = cv2.resize(test_image, (100, 100))  # Resize to match training size\n",
        "        test_image_gray = cv2.cvtColor(test_image, cv2.COLOR_BGR2GRAY)\n",
        "        test_image_gray = test_image_gray.reshape(100, 100, 1)\n",
        "        test_image_normalized = test_image_gray.astype(float) / 255\n",
        "\n",
        "        # Predict using the trained model\n",
        "        prediction = svm_model.predict(test_image_normalized.flatten().reshape(1, -1))\n",
        "\n",
        "        # Print the prediction\n",
        "        if prediction == 0:\n",
        "            print(\"Predicted: Healthy\")\n",
        "        elif prediction == 1:\n",
        "            print(\"Predicted: Rotten\")\n",
        "        else:\n",
        "            print(\"Unknown prediction\")\n",
        "    else:\n",
        "        print(\"Invalid image path.\")"
      ]
    },
    {
      "cell_type": "code",
      "source": [],
      "metadata": {
        "id": "oyL1wAJJ68--"
      },
      "execution_count": null,
      "outputs": []
    }
  ],
  "metadata": {
    "colab": {
      "provenance": []
    },
    "kernelspec": {
      "display_name": "Python 3",
      "name": "python3"
    },
    "language_info": {
      "name": "python"
    }
  },
  "nbformat": 4,
  "nbformat_minor": 0
}