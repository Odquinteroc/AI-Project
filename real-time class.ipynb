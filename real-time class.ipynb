{
 "cells": [
  {
   "cell_type": "code",
   "execution_count": null,
   "metadata": {},
   "outputs": [],
   "source": [
    "# pip install dlib\n",
    "# pip install cmake\n",
    "# pip install opencv-python face_recognition\n",
    "# pip install face-recognition\n",
    "# pip install opencv-contrib-python\n",
    "# pip install --upgrade pip\n",
    "# pip install tensorflow\n",
    "# pip install tensorflow keras opencv-python-headless"
   ]
  },
  {
   "cell_type": "code",
   "execution_count": null,
   "metadata": {},
   "outputs": [],
   "source": [
    "# pip install --upgrade opencv-python opencv-python-headless"
   ]
  },
  {
   "cell_type": "code",
   "execution_count": null,
   "metadata": {},
   "outputs": [],
   "source": [
    "import cv2\n",
    "import os\n",
    "import pandas as pd\n",
    "import numpy as np\n",
    "from tensorflow.keras.applications.mobilenet_v2 import MobileNetV2, preprocess_input, decode_predictions\n",
    "from tensorflow.keras.preprocessing.image import img_to_array\n",
    "from tensorflow.keras.models import load_model"
   ]
  },
  {
   "cell_type": "code",
   "execution_count": null,
   "metadata": {},
   "outputs": [],
   "source": [
    "# Load model\n",
    "# model = load_model('fruits-cnn-ad.h5')\n",
    "model = load_model('fruits-cnn-ad_AllFruits.h5')"
   ]
  },
  {
   "cell_type": "code",
   "execution_count": null,
   "metadata": {},
   "outputs": [],
   "source": [
    "# Print the model summary to check the input shape\n",
    "model.summary()"
   ]
  },
  {
   "cell_type": "code",
   "execution_count": null,
   "metadata": {},
   "outputs": [],
   "source": [
    "# Mapeo de índices a etiquetas de clases\n",
    "class_labels = {\n",
    "    0: 'Apple Healthy', 1: 'Apple Rotten', 2: 'Banana Healthy', 3: 'Banana Rotten',\n",
    "    4: 'Bellpepper Healthy', 5: 'Bellpepper Rotten', 6: 'Carrot Healthy', 7: 'Carrot Rotten',\n",
    "    8: 'Cucumber Healthy', 9: 'Cucumber Rotten', 10: 'Grape Healthy', 11: 'Grape Rotten',\n",
    "    12: 'Guava Healthy', 13: 'Guava Rotten', 14: 'Jujube Healthy', 15: 'Jujube Rotten',\n",
    "    16: 'Mango Healthy', 17: 'Mango Rotten', 18: 'Orange Healthy', 19: 'Orange Rotten',\n",
    "    20: 'Pomegranate Healthy', 21: 'Pomegranate Rotten', 22: 'Potato Healthy', 23: 'Potato Rotten',\n",
    "    24: 'Strawberry Healthy', 25: 'Strawberry Rotten', 26: 'Tomato Healthy', 27: 'Tomato Rotten'\n",
    "}"
   ]
  },
  {
   "cell_type": "code",
   "execution_count": null,
   "metadata": {},
   "outputs": [],
   "source": [
    "# DataFrame para almacenar los resultados\n",
    "results_df = pd.DataFrame(columns=['file_name'])"
   ]
  },
  {
   "cell_type": "code",
   "execution_count": null,
   "metadata": {},
   "outputs": [],
   "source": [
    "# Initialize the camera\n",
    "cap = cv2.VideoCapture(0)\n",
    "\n",
    "if not cap.isOpened():\n",
    "    print(\"Error: Cannot open the camera\")\n",
    "    exit()"
   ]
  },
  {
   "cell_type": "code",
   "execution_count": null,
   "metadata": {},
   "outputs": [],
   "source": [
    "def preprocess_image(frame):\n",
    "    gray_frame = cv2.cvtColor(frame, cv2.COLOR_BGR2GRAY)\n",
    "    resized_frame = cv2.resize(gray_frame, (98, 98))  # Ensure this matches the input size of your model\n",
    "    image_array = img_to_array(resized_frame)\n",
    "    image_array = np.expand_dims(image_array, axis=-1)  # Shape (98, 98, 1)\n",
    "    image_array = np.expand_dims(image_array, axis=0)  # Shape (1, 98, 98, 1)\n",
    "    image_array = image_array / 255.0  # Normalize the image\n",
    "    return image_array"
   ]
  },
  {
   "cell_type": "code",
   "execution_count": null,
   "metadata": {},
   "outputs": [],
   "source": [
    "def predict(image_array):\n",
    "    preds = model.predict(image_array)\n",
    "    label = class_labels[np.argmax(preds)]\n",
    "    prob = np.max(preds)\n",
    "    return label, prob"
   ]
  },
  {
   "cell_type": "code",
   "execution_count": null,
   "metadata": {},
   "outputs": [],
   "source": [
    "frame_count = 0\n",
    "\n",
    "while True:\n",
    "    ret, frame = cap.read()\n",
    "    if not ret:\n",
    "        print(\"Error: Cannot receive frame (stream end?). Exiting ...\")\n",
    "        break\n",
    "    frame = cv2.flip(frame, 1)\n",
    "\n",
    "    # Preprocess the frame\n",
    "    image_array = preprocess_image(frame)\n",
    "\n",
    "    # Make predictions\n",
    "    try:\n",
    "        label, prob = predict(image_array)\n",
    "        label_text = f\"{label}: {prob:.2f}\"\n",
    "        cv2.putText(frame, label_text, (10, 30), cv2.FONT_HERSHEY_SIMPLEX, 1, (0, 255, 0), 2)  # Green text\n",
    "\n",
    "        # Print or store the file name\n",
    "        print(\"Prediction:\", label_text)\n",
    "        new_row = pd.DataFrame({'file_name': [label_text]})\n",
    "        results_df = pd.concat([results_df, new_row], ignore_index=True)\n",
    "    except Exception as e:\n",
    "        print(f\"Error making prediction: {e}\")\n",
    "\n",
    "    # Show the image\n",
    "    cv2.imshow('Fruit Detection', frame)\n",
    "\n",
    "    # Save the frame with prediction\n",
    "    # cv2.imwrite(os.path.join(save_dir, f'frame_{frame_count}.jpg'), frame)\n",
    "    # frame_count += 1\n",
    "\n",
    "    # End capture with 'ESC' key\n",
    "    if cv2.waitKey(1) & 0xFF == 27:\n",
    "        break"
   ]
  },
  {
   "cell_type": "code",
   "execution_count": null,
   "metadata": {},
   "outputs": [],
   "source": [
    "# Release resources\n",
    "cap.release()\n",
    "cv2.destroyAllWindows()\n",
    "\n",
    "# Display the results DataFrame\n",
    "results_df"
   ]
  }
 ],
 "metadata": {
  "kernelspec": {
   "display_name": "Python 3",
   "language": "python",
   "name": "python3"
  },
  "language_info": {
   "codemirror_mode": {
    "name": "ipython",
    "version": 3
   },
   "file_extension": ".py",
   "mimetype": "text/x-python",
   "name": "python",
   "nbconvert_exporter": "python",
   "pygments_lexer": "ipython3",
   "version": "3.10.11"
  }
 },
 "nbformat": 4,
 "nbformat_minor": 2
}
