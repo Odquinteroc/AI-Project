{
 "cells": [
  {
   "cell_type": "code",
   "execution_count": null,
   "metadata": {},
   "outputs": [],
   "source": [
    "# pip install dlib\n",
    "# pip install cmake\n",
    "# pip install opencv-python face_recognition\n",
    "# pip install face-recognition\n",
    "# pip install opencv-contrib-python\n",
    "# pip install --upgrade pip"
   ]
  },
  {
   "cell_type": "code",
   "execution_count": 1,
   "metadata": {},
   "outputs": [],
   "source": [
    "import cv2\n",
    "import face_recognition\n",
    "import os\n",
    "import pandas as pd"
   ]
  },
  {
   "cell_type": "code",
   "execution_count": 2,
   "metadata": {},
   "outputs": [],
   "source": [
    "# Ruta de la carpeta que contiene las imágenes\n",
    "ruta_carpeta = \"C:/Users/diana/OneDrive/Escritorio/FOTOS/\""
   ]
  },
  {
   "cell_type": "code",
   "execution_count": 3,
   "metadata": {},
   "outputs": [],
   "source": [
    "codificaciones = {}\n",
    "for archivo in os.listdir(ruta_carpeta):\n",
    "    if archivo.endswith((\".jpg\", \".png\", \".jpeg\")):\n",
    "        ruta_imagen = os.path.join(ruta_carpeta, archivo)\n",
    "        imagen = face_recognition.load_image_file(ruta_imagen)\n",
    "        encodings = face_recognition.face_encodings(imagen)\n",
    "        if encodings:\n",
    "            codificaciones[archivo] = encodings[0]\n",
    "\n",
    "# DataFrame para almacenar los resultados\n",
    "resultados_df = pd.DataFrame(columns=['Nombre_Archivo'])"
   ]
  },
  {
   "cell_type": "code",
   "execution_count": 4,
   "metadata": {},
   "outputs": [],
   "source": [
    "# Iniciar la cámara\n",
    "cap = cv2.VideoCapture(0, cv2.CAP_DSHOW)"
   ]
  },
  {
   "cell_type": "code",
   "execution_count": 5,
   "metadata": {},
   "outputs": [
    {
     "name": "stdout",
     "output_type": "stream",
     "text": [
      "Coincidencia: Desconocido\n"
     ]
    },
    {
     "name": "stderr",
     "output_type": "stream",
     "text": [
      "C:\\Users\\diana\\AppData\\Local\\Temp\\ipykernel_8168\\449908467.py:25: FutureWarning: The frame.append method is deprecated and will be removed from pandas in a future version. Use pandas.concat instead.\n",
      "  resultados_df = resultados_df.append({'Nombre_Archivo': nombre_archivo}, ignore_index=True)\n"
     ]
    },
    {
     "name": "stdout",
     "output_type": "stream",
     "text": [
      "Coincidencia: Desconocido\n"
     ]
    },
    {
     "name": "stderr",
     "output_type": "stream",
     "text": [
      "C:\\Users\\diana\\AppData\\Local\\Temp\\ipykernel_8168\\449908467.py:25: FutureWarning: The frame.append method is deprecated and will be removed from pandas in a future version. Use pandas.concat instead.\n",
      "  resultados_df = resultados_df.append({'Nombre_Archivo': nombre_archivo}, ignore_index=True)\n"
     ]
    },
    {
     "name": "stdout",
     "output_type": "stream",
     "text": [
      "Coincidencia: Desconocido\n"
     ]
    },
    {
     "name": "stderr",
     "output_type": "stream",
     "text": [
      "C:\\Users\\diana\\AppData\\Local\\Temp\\ipykernel_8168\\449908467.py:25: FutureWarning: The frame.append method is deprecated and will be removed from pandas in a future version. Use pandas.concat instead.\n",
      "  resultados_df = resultados_df.append({'Nombre_Archivo': nombre_archivo}, ignore_index=True)\n"
     ]
    },
    {
     "name": "stdout",
     "output_type": "stream",
     "text": [
      "Coincidencia: Desconocido\n"
     ]
    },
    {
     "name": "stderr",
     "output_type": "stream",
     "text": [
      "C:\\Users\\diana\\AppData\\Local\\Temp\\ipykernel_8168\\449908467.py:25: FutureWarning: The frame.append method is deprecated and will be removed from pandas in a future version. Use pandas.concat instead.\n",
      "  resultados_df = resultados_df.append({'Nombre_Archivo': nombre_archivo}, ignore_index=True)\n"
     ]
    },
    {
     "name": "stdout",
     "output_type": "stream",
     "text": [
      "Coincidencia: Desconocido\n"
     ]
    },
    {
     "name": "stderr",
     "output_type": "stream",
     "text": [
      "C:\\Users\\diana\\AppData\\Local\\Temp\\ipykernel_8168\\449908467.py:25: FutureWarning: The frame.append method is deprecated and will be removed from pandas in a future version. Use pandas.concat instead.\n",
      "  resultados_df = resultados_df.append({'Nombre_Archivo': nombre_archivo}, ignore_index=True)\n"
     ]
    },
    {
     "name": "stdout",
     "output_type": "stream",
     "text": [
      "Coincidencia: Desconocido\n"
     ]
    },
    {
     "name": "stderr",
     "output_type": "stream",
     "text": [
      "C:\\Users\\diana\\AppData\\Local\\Temp\\ipykernel_8168\\449908467.py:25: FutureWarning: The frame.append method is deprecated and will be removed from pandas in a future version. Use pandas.concat instead.\n",
      "  resultados_df = resultados_df.append({'Nombre_Archivo': nombre_archivo}, ignore_index=True)\n"
     ]
    },
    {
     "name": "stdout",
     "output_type": "stream",
     "text": [
      "Coincidencia: Desconocido\n"
     ]
    },
    {
     "name": "stderr",
     "output_type": "stream",
     "text": [
      "C:\\Users\\diana\\AppData\\Local\\Temp\\ipykernel_8168\\449908467.py:25: FutureWarning: The frame.append method is deprecated and will be removed from pandas in a future version. Use pandas.concat instead.\n",
      "  resultados_df = resultados_df.append({'Nombre_Archivo': nombre_archivo}, ignore_index=True)\n"
     ]
    },
    {
     "name": "stdout",
     "output_type": "stream",
     "text": [
      "Coincidencia: Desconocido\n"
     ]
    },
    {
     "name": "stderr",
     "output_type": "stream",
     "text": [
      "C:\\Users\\diana\\AppData\\Local\\Temp\\ipykernel_8168\\449908467.py:25: FutureWarning: The frame.append method is deprecated and will be removed from pandas in a future version. Use pandas.concat instead.\n",
      "  resultados_df = resultados_df.append({'Nombre_Archivo': nombre_archivo}, ignore_index=True)\n"
     ]
    },
    {
     "name": "stdout",
     "output_type": "stream",
     "text": [
      "Coincidencia: Desconocido\n"
     ]
    },
    {
     "name": "stderr",
     "output_type": "stream",
     "text": [
      "C:\\Users\\diana\\AppData\\Local\\Temp\\ipykernel_8168\\449908467.py:25: FutureWarning: The frame.append method is deprecated and will be removed from pandas in a future version. Use pandas.concat instead.\n",
      "  resultados_df = resultados_df.append({'Nombre_Archivo': nombre_archivo}, ignore_index=True)\n"
     ]
    },
    {
     "name": "stdout",
     "output_type": "stream",
     "text": [
      "Coincidencia: Jhon.jpg\n",
      "Coincidencia: Desconocido\n"
     ]
    },
    {
     "name": "stderr",
     "output_type": "stream",
     "text": [
      "C:\\Users\\diana\\AppData\\Local\\Temp\\ipykernel_8168\\449908467.py:25: FutureWarning: The frame.append method is deprecated and will be removed from pandas in a future version. Use pandas.concat instead.\n",
      "  resultados_df = resultados_df.append({'Nombre_Archivo': nombre_archivo}, ignore_index=True)\n",
      "C:\\Users\\diana\\AppData\\Local\\Temp\\ipykernel_8168\\449908467.py:25: FutureWarning: The frame.append method is deprecated and will be removed from pandas in a future version. Use pandas.concat instead.\n",
      "  resultados_df = resultados_df.append({'Nombre_Archivo': nombre_archivo}, ignore_index=True)\n"
     ]
    },
    {
     "name": "stdout",
     "output_type": "stream",
     "text": [
      "Coincidencia: Jhon.jpg\n",
      "Coincidencia: Desconocido\n"
     ]
    },
    {
     "name": "stderr",
     "output_type": "stream",
     "text": [
      "C:\\Users\\diana\\AppData\\Local\\Temp\\ipykernel_8168\\449908467.py:25: FutureWarning: The frame.append method is deprecated and will be removed from pandas in a future version. Use pandas.concat instead.\n",
      "  resultados_df = resultados_df.append({'Nombre_Archivo': nombre_archivo}, ignore_index=True)\n",
      "C:\\Users\\diana\\AppData\\Local\\Temp\\ipykernel_8168\\449908467.py:25: FutureWarning: The frame.append method is deprecated and will be removed from pandas in a future version. Use pandas.concat instead.\n",
      "  resultados_df = resultados_df.append({'Nombre_Archivo': nombre_archivo}, ignore_index=True)\n"
     ]
    },
    {
     "name": "stdout",
     "output_type": "stream",
     "text": [
      "Coincidencia: Desconocido\n",
      "Coincidencia: Desconocido\n"
     ]
    },
    {
     "name": "stderr",
     "output_type": "stream",
     "text": [
      "C:\\Users\\diana\\AppData\\Local\\Temp\\ipykernel_8168\\449908467.py:25: FutureWarning: The frame.append method is deprecated and will be removed from pandas in a future version. Use pandas.concat instead.\n",
      "  resultados_df = resultados_df.append({'Nombre_Archivo': nombre_archivo}, ignore_index=True)\n",
      "C:\\Users\\diana\\AppData\\Local\\Temp\\ipykernel_8168\\449908467.py:25: FutureWarning: The frame.append method is deprecated and will be removed from pandas in a future version. Use pandas.concat instead.\n",
      "  resultados_df = resultados_df.append({'Nombre_Archivo': nombre_archivo}, ignore_index=True)\n"
     ]
    },
    {
     "name": "stdout",
     "output_type": "stream",
     "text": [
      "Coincidencia: Desconocido\n",
      "Coincidencia: Desconocido\n"
     ]
    },
    {
     "name": "stderr",
     "output_type": "stream",
     "text": [
      "C:\\Users\\diana\\AppData\\Local\\Temp\\ipykernel_8168\\449908467.py:25: FutureWarning: The frame.append method is deprecated and will be removed from pandas in a future version. Use pandas.concat instead.\n",
      "  resultados_df = resultados_df.append({'Nombre_Archivo': nombre_archivo}, ignore_index=True)\n",
      "C:\\Users\\diana\\AppData\\Local\\Temp\\ipykernel_8168\\449908467.py:25: FutureWarning: The frame.append method is deprecated and will be removed from pandas in a future version. Use pandas.concat instead.\n",
      "  resultados_df = resultados_df.append({'Nombre_Archivo': nombre_archivo}, ignore_index=True)\n"
     ]
    },
    {
     "name": "stdout",
     "output_type": "stream",
     "text": [
      "Coincidencia: Desconocido\n"
     ]
    },
    {
     "name": "stderr",
     "output_type": "stream",
     "text": [
      "C:\\Users\\diana\\AppData\\Local\\Temp\\ipykernel_8168\\449908467.py:25: FutureWarning: The frame.append method is deprecated and will be removed from pandas in a future version. Use pandas.concat instead.\n",
      "  resultados_df = resultados_df.append({'Nombre_Archivo': nombre_archivo}, ignore_index=True)\n"
     ]
    },
    {
     "name": "stdout",
     "output_type": "stream",
     "text": [
      "Coincidencia: Jhon.jpg\n",
      "Coincidencia: Desconocido\n"
     ]
    },
    {
     "name": "stderr",
     "output_type": "stream",
     "text": [
      "C:\\Users\\diana\\AppData\\Local\\Temp\\ipykernel_8168\\449908467.py:25: FutureWarning: The frame.append method is deprecated and will be removed from pandas in a future version. Use pandas.concat instead.\n",
      "  resultados_df = resultados_df.append({'Nombre_Archivo': nombre_archivo}, ignore_index=True)\n",
      "C:\\Users\\diana\\AppData\\Local\\Temp\\ipykernel_8168\\449908467.py:25: FutureWarning: The frame.append method is deprecated and will be removed from pandas in a future version. Use pandas.concat instead.\n",
      "  resultados_df = resultados_df.append({'Nombre_Archivo': nombre_archivo}, ignore_index=True)\n"
     ]
    },
    {
     "name": "stdout",
     "output_type": "stream",
     "text": [
      "Coincidencia: Jhon.jpg\n",
      "Coincidencia: Desconocido\n"
     ]
    },
    {
     "name": "stderr",
     "output_type": "stream",
     "text": [
      "C:\\Users\\diana\\AppData\\Local\\Temp\\ipykernel_8168\\449908467.py:25: FutureWarning: The frame.append method is deprecated and will be removed from pandas in a future version. Use pandas.concat instead.\n",
      "  resultados_df = resultados_df.append({'Nombre_Archivo': nombre_archivo}, ignore_index=True)\n",
      "C:\\Users\\diana\\AppData\\Local\\Temp\\ipykernel_8168\\449908467.py:25: FutureWarning: The frame.append method is deprecated and will be removed from pandas in a future version. Use pandas.concat instead.\n",
      "  resultados_df = resultados_df.append({'Nombre_Archivo': nombre_archivo}, ignore_index=True)\n"
     ]
    },
    {
     "name": "stdout",
     "output_type": "stream",
     "text": [
      "Coincidencia: Desconocido\n",
      "Coincidencia: Jhon.jpg\n",
      "Coincidencia: Cristian.jpg\n"
     ]
    },
    {
     "name": "stderr",
     "output_type": "stream",
     "text": [
      "C:\\Users\\diana\\AppData\\Local\\Temp\\ipykernel_8168\\449908467.py:25: FutureWarning: The frame.append method is deprecated and will be removed from pandas in a future version. Use pandas.concat instead.\n",
      "  resultados_df = resultados_df.append({'Nombre_Archivo': nombre_archivo}, ignore_index=True)\n",
      "C:\\Users\\diana\\AppData\\Local\\Temp\\ipykernel_8168\\449908467.py:25: FutureWarning: The frame.append method is deprecated and will be removed from pandas in a future version. Use pandas.concat instead.\n",
      "  resultados_df = resultados_df.append({'Nombre_Archivo': nombre_archivo}, ignore_index=True)\n",
      "C:\\Users\\diana\\AppData\\Local\\Temp\\ipykernel_8168\\449908467.py:25: FutureWarning: The frame.append method is deprecated and will be removed from pandas in a future version. Use pandas.concat instead.\n",
      "  resultados_df = resultados_df.append({'Nombre_Archivo': nombre_archivo}, ignore_index=True)\n"
     ]
    },
    {
     "ename": "KeyboardInterrupt",
     "evalue": "",
     "output_type": "error",
     "traceback": [
      "\u001b[1;31m---------------------------------------------------------------------------\u001b[0m",
      "\u001b[1;31mKeyboardInterrupt\u001b[0m                         Traceback (most recent call last)",
      "\u001b[1;32mc:\\Users\\diana\\OneDrive\\Escritorio\\FOTOS\\Reconocimiento V2.ipynb Celda 6\u001b[0m line \u001b[0;36m7\n\u001b[0;32m      <a href='vscode-notebook-cell:/c%3A/Users/diana/OneDrive/Escritorio/FOTOS/Reconocimiento%20V2.ipynb#W5sZmlsZQ%3D%3D?line=3'>4</a>\u001b[0m frame \u001b[39m=\u001b[39m cv2\u001b[39m.\u001b[39mflip(frame, \u001b[39m1\u001b[39m)\n\u001b[0;32m      <a href='vscode-notebook-cell:/c%3A/Users/diana/OneDrive/Escritorio/FOTOS/Reconocimiento%20V2.ipynb#W5sZmlsZQ%3D%3D?line=5'>6</a>\u001b[0m \u001b[39m# Obtener ubicaciones de las caras\u001b[39;00m\n\u001b[1;32m----> <a href='vscode-notebook-cell:/c%3A/Users/diana/OneDrive/Escritorio/FOTOS/Reconocimiento%20V2.ipynb#W5sZmlsZQ%3D%3D?line=6'>7</a>\u001b[0m face_locations \u001b[39m=\u001b[39m face_recognition\u001b[39m.\u001b[39mface_locations(frame, model\u001b[39m=\u001b[39m\u001b[39m\"\u001b[39m\u001b[39mcnn\u001b[39m\u001b[39m\"\u001b[39m)\n\u001b[0;32m      <a href='vscode-notebook-cell:/c%3A/Users/diana/OneDrive/Escritorio/FOTOS/Reconocimiento%20V2.ipynb#W5sZmlsZQ%3D%3D?line=8'>9</a>\u001b[0m \u001b[39m# Procesar cada cara detectada\u001b[39;00m\n\u001b[0;32m     <a href='vscode-notebook-cell:/c%3A/Users/diana/OneDrive/Escritorio/FOTOS/Reconocimiento%20V2.ipynb#W5sZmlsZQ%3D%3D?line=9'>10</a>\u001b[0m \u001b[39mfor\u001b[39;00m face_location \u001b[39min\u001b[39;00m face_locations:\n",
      "File \u001b[1;32m~\\AppData\\Local\\Packages\\PythonSoftwareFoundation.Python.3.10_qbz5n2kfra8p0\\LocalCache\\local-packages\\Python310\\site-packages\\face_recognition\\api.py:119\u001b[0m, in \u001b[0;36mface_locations\u001b[1;34m(img, number_of_times_to_upsample, model)\u001b[0m\n\u001b[0;32m    109\u001b[0m \u001b[39m\"\"\"\u001b[39;00m\n\u001b[0;32m    110\u001b[0m \u001b[39mReturns an array of bounding boxes of human faces in a image\u001b[39;00m\n\u001b[0;32m    111\u001b[0m \n\u001b[1;32m   (...)\u001b[0m\n\u001b[0;32m    116\u001b[0m \u001b[39m:return: A list of tuples of found face locations in css (top, right, bottom, left) order\u001b[39;00m\n\u001b[0;32m    117\u001b[0m \u001b[39m\"\"\"\u001b[39;00m\n\u001b[0;32m    118\u001b[0m \u001b[39mif\u001b[39;00m model \u001b[39m==\u001b[39m \u001b[39m\"\u001b[39m\u001b[39mcnn\u001b[39m\u001b[39m\"\u001b[39m:\n\u001b[1;32m--> 119\u001b[0m     \u001b[39mreturn\u001b[39;00m [_trim_css_to_bounds(_rect_to_css(face\u001b[39m.\u001b[39mrect), img\u001b[39m.\u001b[39mshape) \u001b[39mfor\u001b[39;00m face \u001b[39min\u001b[39;00m _raw_face_locations(img, number_of_times_to_upsample, \u001b[39m\"\u001b[39;49m\u001b[39mcnn\u001b[39;49m\u001b[39m\"\u001b[39;49m)]\n\u001b[0;32m    120\u001b[0m \u001b[39melse\u001b[39;00m:\n\u001b[0;32m    121\u001b[0m     \u001b[39mreturn\u001b[39;00m [_trim_css_to_bounds(_rect_to_css(face), img\u001b[39m.\u001b[39mshape) \u001b[39mfor\u001b[39;00m face \u001b[39min\u001b[39;00m _raw_face_locations(img, number_of_times_to_upsample, model)]\n",
      "\u001b[1;31mKeyboardInterrupt\u001b[0m: "
     ]
    }
   ],
   "source": [
    "while True:\n",
    "    ret, frame = cap.read()\n",
    "    if not ret: break\n",
    "    frame = cv2.flip(frame, 1)\n",
    "\n",
    "    # Obtener ubicaciones de las caras\n",
    "    face_locations = face_recognition.face_locations(frame, model=\"cnn\")\n",
    "\n",
    "    # Procesar cada cara detectada\n",
    "    for face_location in face_locations:\n",
    "        encodings = face_recognition.face_encodings(frame, known_face_locations=[face_location])\n",
    "        if encodings:  # Verifica si se encontraron caras\n",
    "            face_frame_encodings = encodings[0]\n",
    "            nombre_archivo = \"Desconocido\"\n",
    "\n",
    "            # Comparar con cada imagen de referencia\n",
    "            for archivo, codificacion in codificaciones.items():\n",
    "                result = face_recognition.compare_faces([codificacion], face_frame_encodings)\n",
    "                if result[0]:\n",
    "                    nombre_archivo = archivo\n",
    "                    break\n",
    "\n",
    "            # Imprimir o almacenar el nombre del archivo\n",
    "            print(\"Coincidencia:\", nombre_archivo)\n",
    "            resultados_df = resultados_df.append({'Nombre_Archivo': nombre_archivo}, ignore_index=True)\n",
    "\n",
    "    # Terminar la captura con la tecla 'ESC'\n",
    "    if cv2.waitKey(1) & 0xFF == 27:\n",
    "        break\n",
    "\n",
    "# Liberar recursos\n",
    "cap.release()\n",
    "cv2.destroyAllWindows()"
   ]
  },
  {
   "cell_type": "code",
   "execution_count": null,
   "metadata": {},
   "outputs": [],
   "source": [
    "# # Capturar una sola imagen de la cámara\n",
    "# ret, frame = cap.read()\n",
    "# if ret:\n",
    "#     frame = cv2.flip(frame, 1)\n",
    "#     face_locations = face_recognition.face_locations(frame, model=\"cnn\")\n",
    "\n",
    "#     if face_locations:\n",
    "#         for face_location in face_locations:\n",
    "#             encodings = face_recognition.face_encodings(frame, known_face_locations=[face_location])\n",
    "#             if encodings:\n",
    "#                 face_frame_encodings = encodings[0]\n",
    "#                 nombre_archivo = \"Desconocido\"\n",
    "\n",
    "#                 # Comparar con cada imagen de referencia\n",
    "#                 for archivo, codificacion in codificaciones.items():\n",
    "#                     result = face_recognition.compare_faces([codificacion], face_frame_encodings)\n",
    "#                     if result[0]:\n",
    "#                         nombre_archivo = archivo\n",
    "#                         break\n",
    "\n",
    "#                 # Imprimir o almacenar el nombre del archivo\n",
    "#                 print(\"Coincidencia:\", nombre_archivo)\n",
    "#                 resultados_df = resultados_df.append({'Nombre_Archivo': nombre_archivo}, ignore_index=True)\n",
    "\n",
    "# # Cerrar el video y destruir todas las ventanas\n",
    "# cap.release()\n",
    "# cv2.destroyAllWindows()\n",
    "\n",
    "# # Imprimir el DataFrame de resultados\n",
    "# print(resultados_df)\n"
   ]
  }
 ],
 "metadata": {
  "kernelspec": {
   "display_name": "Python 3",
   "language": "python",
   "name": "python3"
  },
  "language_info": {
   "codemirror_mode": {
    "name": "ipython",
    "version": 3
   },
   "file_extension": ".py",
   "mimetype": "text/x-python",
   "name": "python",
   "nbconvert_exporter": "python",
   "pygments_lexer": "ipython3",
   "version": "3.10.11"
  }
 },
 "nbformat": 4,
 "nbformat_minor": 2
}
