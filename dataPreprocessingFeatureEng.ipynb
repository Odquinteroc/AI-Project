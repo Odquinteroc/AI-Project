{
 "cells": [
  {
   "cell_type": "markdown",
   "metadata": {},
   "source": [
    "## Data preprocessiong. Mid-Point Submission (Group 5)"
   ]
  },
  {
   "cell_type": "markdown",
   "metadata": {},
   "source": [
    "#### Remove duplicates\n",
    "#### Handle missing values\n",
    "#### Normalize data"
   ]
  },
  {
   "cell_type": "markdown",
   "metadata": {},
   "source": [
    "### 1. Importing Libraries"
   ]
  },
  {
   "cell_type": "code",
   "execution_count": 2,
   "metadata": {},
   "outputs": [],
   "source": [
    "# First, it is required to imports necessary libraries for data processing, visualization, and TensorFlow operations.\n",
    "\n",
    "import numpy as np  # For numerical operations\n",
    "import os, cv2  # For handling file paths and image processing\n",
    "import re, random   # For regular expressions and random operations\n",
    "import matplotlib.pyplot as plt   # For plotting graphs\n",
    "import seaborn as sns  # For data visualization\n",
    "import tensorflow as tf  # For building and training neural networks"
   ]
  },
  {
   "cell_type": "markdown",
   "metadata": {},
   "source": [
    "### 2. Column and Label Definitions"
   ]
  },
  {
   "cell_type": "code",
   "execution_count": 3,
   "metadata": {},
   "outputs": [],
   "source": [
    "columns = ['Apple__Healthy', 'Apple__Rotten', 'Banana__Healthy',] \n",
    "           \n",
    "Labelss =   ['Apple Healthy', 'Apple Rotten', 'Banana Healthy',]   "
   ]
  },
  {
   "cell_type": "code",
   "execution_count": 4,
   "metadata": {},
   "outputs": [
    {
     "data": {
      "text/plain": [
       "\"columns = ['Apple__Healthy', 'Apple__Rotten', 'Banana__Healthy', 'Banana__Rotten', 'Bellpepper__Healthy', \\n           'Bellpepper__Rotten', 'Carrot__Healthy', 'Carrot__Rotten', 'Cucumber__Healthy', 'Cucumber__Rotten',\\n           'Grape__Healthy', 'Grape__Rotten', 'Guava__Healthy', 'Guava__Rotten', 'Jujube__Healthy', 'Jujube__Rotten',\\n           'Mango__Healthy', 'Mango__Rotten', 'Orange__Healthy', 'Orange__Rotten', 'Pomegranate__Healthy','Pomegranate__Rotten',\\n           'Potato__Healthy', 'Potato__Rotten', 'Strawberry__Healthy', 'Strawberry__Rotten', 'Tomato__Healthy', 'Tomato__Rotten'] \\n           \\nLabelss =   ['Apple Healthy', 'Apple Rotten', 'Banana Healthy', 'Banana Rotten', 'Bellpepper Healthy', \\n           'Bellpepper Rotten', 'Carrot Healthy', 'Carrot Rotten', 'Cucumber Healthy', 'Cucumber Rotten',\\n           'Grape Healthy', 'Grape Rotten', 'Guava Healthy', 'Guava Rotten', 'Jujube Healthy', 'Jujube Rotten',\\n           'Mango Healthy', 'Mango Rotten', 'Orange Healthy', 'Orange Rotten', 'Pomegranate Healthy','Pomegranate Rotten',\\n           'Potato Healthy', 'Potato Rotten', 'Strawberry__Healthy', 'Strawberry__Rotten', 'Tomato__Healthy', 'Tomato__Rotten']   \""
      ]
     },
     "execution_count": 4,
     "metadata": {},
     "output_type": "execute_result"
    }
   ],
   "source": [
    "\"\"\"columns = ['Apple__Healthy', 'Apple__Rotten', 'Banana__Healthy', 'Banana__Rotten', 'Bellpepper__Healthy', \n",
    "           'Bellpepper__Rotten', 'Carrot__Healthy', 'Carrot__Rotten', 'Cucumber__Healthy', 'Cucumber__Rotten',\n",
    "           'Grape__Healthy', 'Grape__Rotten', 'Guava__Healthy', 'Guava__Rotten', 'Jujube__Healthy', 'Jujube__Rotten',\n",
    "           'Mango__Healthy', 'Mango__Rotten', 'Orange__Healthy', 'Orange__Rotten', 'Pomegranate__Healthy','Pomegranate__Rotten',\n",
    "           'Potato__Healthy', 'Potato__Rotten', 'Strawberry__Healthy', 'Strawberry__Rotten', 'Tomato__Healthy', 'Tomato__Rotten'] \n",
    "           \n",
    "Labelss =   ['Apple Healthy', 'Apple Rotten', 'Banana Healthy', 'Banana Rotten', 'Bellpepper Healthy', \n",
    "           'Bellpepper Rotten', 'Carrot Healthy', 'Carrot Rotten', 'Cucumber Healthy', 'Cucumber Rotten',\n",
    "           'Grape Healthy', 'Grape Rotten', 'Guava Healthy', 'Guava Rotten', 'Jujube Healthy', 'Jujube Rotten',\n",
    "           'Mango Healthy', 'Mango Rotten', 'Orange Healthy', 'Orange Rotten', 'Pomegranate Healthy','Pomegranate Rotten',\n",
    "           'Potato Healthy', 'Potato Rotten', 'Strawberry__Healthy', 'Strawberry__Rotten', 'Tomato__Healthy', 'Tomato__Rotten']   \"\"\""
   ]
  },
  {
   "cell_type": "code",
   "execution_count": 6,
   "metadata": {},
   "outputs": [
    {
     "name": "stdout",
     "output_type": "stream",
     "text": [
      "Loading -->  Apple__Healthy\n",
      "Loading -->  Apple__Rotten\n",
      "Loading -->  Banana__Healthy\n"
     ]
    }
   ],
   "source": [
    "images = []\n",
    "labels = []\n",
    "img_size = 100\n",
    "\n",
    "count = 0\n",
    "for folder in columns:\n",
    "    print('Loading --> ', folder)\n",
    "    for img in os.listdir('../archive/Fruit And Vegetable Diseases Dataset' + '/' + folder):\n",
    "        image = cv2.imread('../archive/Fruit And Vegetable Diseases Dataset' + '/' + folder + '/' + img)\n",
    "        image = cv2.resize(image, (img_size, img_size)) # Changing the img size\n",
    "        image_gray = cv2.cvtColor(image, cv2.COLOR_BGR2GRAY) # Transforming the img in gray scale\n",
    "        image_gray = image_gray.reshape(img_size, img_size, 1) # Changing shape to 100, 100, 1\n",
    "        images.append(image_gray)\n",
    "        labels.append(count)\n",
    "    count += 1"
   ]
  },
  {
   "cell_type": "code",
   "execution_count": 7,
   "metadata": {},
   "outputs": [
    {
     "name": "stdout",
     "output_type": "stream",
     "text": [
      "7368\n",
      "7368\n",
      "[0, 1, 2]\n"
     ]
    }
   ],
   "source": [
    "print(len(images))\n",
    "print(len(labels))\n",
    "\n",
    "\n",
    "unique_labels = list(set(labels))\n",
    "print(unique_labels)"
   ]
  },
  {
   "cell_type": "code",
   "execution_count": 8,
   "metadata": {},
   "outputs": [
    {
     "data": {
      "text/plain": [
       "array([[[229],\n",
       "        [235],\n",
       "        [234],\n",
       "        ...,\n",
       "        [225],\n",
       "        [221],\n",
       "        [218]],\n",
       "\n",
       "       [[231],\n",
       "        [230],\n",
       "        [235],\n",
       "        ...,\n",
       "        [223],\n",
       "        [225],\n",
       "        [218]],\n",
       "\n",
       "       [[228],\n",
       "        [232],\n",
       "        [234],\n",
       "        ...,\n",
       "        [227],\n",
       "        [219],\n",
       "        [217]],\n",
       "\n",
       "       ...,\n",
       "\n",
       "       [[239],\n",
       "        [239],\n",
       "        [237],\n",
       "        ...,\n",
       "        [202],\n",
       "        [201],\n",
       "        [197]],\n",
       "\n",
       "       [[238],\n",
       "        [236],\n",
       "        [236],\n",
       "        ...,\n",
       "        [200],\n",
       "        [200],\n",
       "        [192]],\n",
       "\n",
       "       [[237],\n",
       "        [232],\n",
       "        [235],\n",
       "        ...,\n",
       "        [204],\n",
       "        [201],\n",
       "        [200]]], dtype=uint8)"
      ]
     },
     "execution_count": 8,
     "metadata": {},
     "output_type": "execute_result"
    }
   ],
   "source": [
    "images[0]"
   ]
  },
  {
   "cell_type": "code",
   "execution_count": 9,
   "metadata": {},
   "outputs": [],
   "source": [
    "training_data = []\n",
    "for img, label in zip(images, labels):\n",
    "    training_data.append([img, label])"
   ]
  },
  {
   "cell_type": "code",
   "execution_count": 10,
   "metadata": {},
   "outputs": [
    {
     "data": {
      "text/plain": [
       "[array([[[0],\n",
       "         [0],\n",
       "         [0],\n",
       "         ...,\n",
       "         [0],\n",
       "         [0],\n",
       "         [0]],\n",
       " \n",
       "        [[0],\n",
       "         [0],\n",
       "         [0],\n",
       "         ...,\n",
       "         [0],\n",
       "         [0],\n",
       "         [0]],\n",
       " \n",
       "        [[0],\n",
       "         [0],\n",
       "         [0],\n",
       "         ...,\n",
       "         [0],\n",
       "         [0],\n",
       "         [0]],\n",
       " \n",
       "        ...,\n",
       " \n",
       "        [[0],\n",
       "         [0],\n",
       "         [0],\n",
       "         ...,\n",
       "         [0],\n",
       "         [0],\n",
       "         [0]],\n",
       " \n",
       "        [[0],\n",
       "         [0],\n",
       "         [0],\n",
       "         ...,\n",
       "         [0],\n",
       "         [0],\n",
       "         [0]],\n",
       " \n",
       "        [[0],\n",
       "         [0],\n",
       "         [0],\n",
       "         ...,\n",
       "         [0],\n",
       "         [0],\n",
       "         [0]]], dtype=uint8),\n",
       " 1]"
      ]
     },
     "execution_count": 10,
     "metadata": {},
     "output_type": "execute_result"
    }
   ],
   "source": [
    "training_data[3000]"
   ]
  },
  {
   "cell_type": "code",
   "execution_count": 11,
   "metadata": {},
   "outputs": [],
   "source": [
    "X = []\n",
    "y = []\n",
    "\n",
    "for img , lab in training_data:\n",
    "    X.append(img)\n",
    "    y.append(lab)"
   ]
  },
  {
   "cell_type": "code",
   "execution_count": 16,
   "metadata": {},
   "outputs": [],
   "source": [
    "from sklearn.utils import shuffle\n",
    "X, y = shuffle(X, y, random_state=42) "
   ]
  },
  {
   "cell_type": "markdown",
   "metadata": {},
   "source": [
    "### 3. Normalizing Image Data"
   ]
  },
  {
   "cell_type": "code",
   "execution_count": 17,
   "metadata": {},
   "outputs": [
    {
     "data": {
      "text/plain": [
       "array([[[[0.00215302],\n",
       "         [0.00213764],\n",
       "         [0.00215302],\n",
       "         ...,\n",
       "         [0.00272203],\n",
       "         [0.00256824],\n",
       "         [0.002599  ]],\n",
       "\n",
       "        [[0.00215302],\n",
       "         [0.00213764],\n",
       "         [0.00215302],\n",
       "         ...,\n",
       "         [0.00261438],\n",
       "         [0.00246059],\n",
       "         [0.002599  ]],\n",
       "\n",
       "        [[0.00215302],\n",
       "         [0.00213764],\n",
       "         [0.00215302],\n",
       "         ...,\n",
       "         [0.00247597],\n",
       "         [0.00169166],\n",
       "         [0.00183007]],\n",
       "\n",
       "        ...,\n",
       "\n",
       "        [[0.00215302],\n",
       "         [0.00213764],\n",
       "         [0.00213764],\n",
       "         ...,\n",
       "         [0.00247597],\n",
       "         [0.00249135],\n",
       "         [0.00249135]],\n",
       "\n",
       "        [[0.00213764],\n",
       "         [0.00213764],\n",
       "         [0.00213764],\n",
       "         ...,\n",
       "         [0.00249135],\n",
       "         [0.00249135],\n",
       "         [0.00250673]],\n",
       "\n",
       "        [[0.00212226],\n",
       "         [0.00213764],\n",
       "         [0.00215302],\n",
       "         ...,\n",
       "         [0.00249135],\n",
       "         [0.00250673],\n",
       "         [0.00252211]]],\n",
       "\n",
       "\n",
       "       [[[0.        ],\n",
       "         [0.        ],\n",
       "         [0.        ],\n",
       "         ...,\n",
       "         [0.        ],\n",
       "         [0.        ],\n",
       "         [0.        ]],\n",
       "\n",
       "        [[0.        ],\n",
       "         [0.        ],\n",
       "         [0.        ],\n",
       "         ...,\n",
       "         [0.        ],\n",
       "         [0.        ],\n",
       "         [0.        ]],\n",
       "\n",
       "        [[0.        ],\n",
       "         [0.        ],\n",
       "         [0.        ],\n",
       "         ...,\n",
       "         [0.        ],\n",
       "         [0.        ],\n",
       "         [0.        ]],\n",
       "\n",
       "        ...,\n",
       "\n",
       "        [[0.        ],\n",
       "         [0.        ],\n",
       "         [0.        ],\n",
       "         ...,\n",
       "         [0.00392157],\n",
       "         [0.00392157],\n",
       "         [0.00392157]],\n",
       "\n",
       "        [[0.        ],\n",
       "         [0.        ],\n",
       "         [0.        ],\n",
       "         ...,\n",
       "         [0.00392157],\n",
       "         [0.00392157],\n",
       "         [0.00392157]],\n",
       "\n",
       "        [[0.        ],\n",
       "         [0.        ],\n",
       "         [0.        ],\n",
       "         ...,\n",
       "         [0.00392157],\n",
       "         [0.00392157],\n",
       "         [0.00392157]]],\n",
       "\n",
       "\n",
       "       [[[0.        ],\n",
       "         [0.        ],\n",
       "         [0.        ],\n",
       "         ...,\n",
       "         [0.        ],\n",
       "         [0.        ],\n",
       "         [0.        ]],\n",
       "\n",
       "        [[0.        ],\n",
       "         [0.        ],\n",
       "         [0.        ],\n",
       "         ...,\n",
       "         [0.        ],\n",
       "         [0.        ],\n",
       "         [0.        ]],\n",
       "\n",
       "        [[0.        ],\n",
       "         [0.        ],\n",
       "         [0.        ],\n",
       "         ...,\n",
       "         [0.        ],\n",
       "         [0.        ],\n",
       "         [0.        ]],\n",
       "\n",
       "        ...,\n",
       "\n",
       "        [[0.        ],\n",
       "         [0.        ],\n",
       "         [0.        ],\n",
       "         ...,\n",
       "         [0.        ],\n",
       "         [0.        ],\n",
       "         [0.        ]],\n",
       "\n",
       "        [[0.        ],\n",
       "         [0.        ],\n",
       "         [0.        ],\n",
       "         ...,\n",
       "         [0.        ],\n",
       "         [0.        ],\n",
       "         [0.        ]],\n",
       "\n",
       "        [[0.        ],\n",
       "         [0.        ],\n",
       "         [0.        ],\n",
       "         ...,\n",
       "         [0.        ],\n",
       "         [0.        ],\n",
       "         [0.        ]]],\n",
       "\n",
       "\n",
       "       ...,\n",
       "\n",
       "\n",
       "       [[[0.00352172],\n",
       "         [0.00347559],\n",
       "         [0.00341407],\n",
       "         ...,\n",
       "         [0.        ],\n",
       "         [0.        ],\n",
       "         [0.        ]],\n",
       "\n",
       "        [[0.00352172],\n",
       "         [0.00347559],\n",
       "         [0.00342945],\n",
       "         ...,\n",
       "         [0.        ],\n",
       "         [0.        ],\n",
       "         [0.        ]],\n",
       "\n",
       "        [[0.00352172],\n",
       "         [0.00347559],\n",
       "         [0.00342945],\n",
       "         ...,\n",
       "         [0.        ],\n",
       "         [0.        ],\n",
       "         [0.        ]],\n",
       "\n",
       "        ...,\n",
       "\n",
       "        [[0.        ],\n",
       "         [0.        ],\n",
       "         [0.        ],\n",
       "         ...,\n",
       "         [0.        ],\n",
       "         [0.        ],\n",
       "         [0.        ]],\n",
       "\n",
       "        [[0.        ],\n",
       "         [0.        ],\n",
       "         [0.        ],\n",
       "         ...,\n",
       "         [0.        ],\n",
       "         [0.        ],\n",
       "         [0.        ]],\n",
       "\n",
       "        [[0.        ],\n",
       "         [0.        ],\n",
       "         [0.        ],\n",
       "         ...,\n",
       "         [0.        ],\n",
       "         [0.        ],\n",
       "         [0.        ]]],\n",
       "\n",
       "\n",
       "       [[[0.        ],\n",
       "         [0.        ],\n",
       "         [0.        ],\n",
       "         ...,\n",
       "         [0.        ],\n",
       "         [0.        ],\n",
       "         [0.        ]],\n",
       "\n",
       "        [[0.        ],\n",
       "         [0.        ],\n",
       "         [0.        ],\n",
       "         ...,\n",
       "         [0.        ],\n",
       "         [0.        ],\n",
       "         [0.        ]],\n",
       "\n",
       "        [[0.        ],\n",
       "         [0.        ],\n",
       "         [0.        ],\n",
       "         ...,\n",
       "         [0.        ],\n",
       "         [0.        ],\n",
       "         [0.        ]],\n",
       "\n",
       "        ...,\n",
       "\n",
       "        [[0.        ],\n",
       "         [0.        ],\n",
       "         [0.        ],\n",
       "         ...,\n",
       "         [0.        ],\n",
       "         [0.        ],\n",
       "         [0.        ]],\n",
       "\n",
       "        [[0.        ],\n",
       "         [0.        ],\n",
       "         [0.        ],\n",
       "         ...,\n",
       "         [0.        ],\n",
       "         [0.        ],\n",
       "         [0.        ]],\n",
       "\n",
       "        [[0.        ],\n",
       "         [0.        ],\n",
       "         [0.        ],\n",
       "         ...,\n",
       "         [0.        ],\n",
       "         [0.        ],\n",
       "         [0.        ]]],\n",
       "\n",
       "\n",
       "       [[[0.00392157],\n",
       "         [0.00392157],\n",
       "         [0.00392157],\n",
       "         ...,\n",
       "         [0.00392157],\n",
       "         [0.00392157],\n",
       "         [0.00392157]],\n",
       "\n",
       "        [[0.00392157],\n",
       "         [0.00392157],\n",
       "         [0.00392157],\n",
       "         ...,\n",
       "         [0.00392157],\n",
       "         [0.00392157],\n",
       "         [0.00392157]],\n",
       "\n",
       "        [[0.00392157],\n",
       "         [0.00392157],\n",
       "         [0.00392157],\n",
       "         ...,\n",
       "         [0.00392157],\n",
       "         [0.00392157],\n",
       "         [0.00392157]],\n",
       "\n",
       "        ...,\n",
       "\n",
       "        [[0.00392157],\n",
       "         [0.00392157],\n",
       "         [0.00392157],\n",
       "         ...,\n",
       "         [0.00392157],\n",
       "         [0.00392157],\n",
       "         [0.00392157]],\n",
       "\n",
       "        [[0.00392157],\n",
       "         [0.00392157],\n",
       "         [0.00392157],\n",
       "         ...,\n",
       "         [0.00392157],\n",
       "         [0.00392157],\n",
       "         [0.00392157]],\n",
       "\n",
       "        [[0.00392157],\n",
       "         [0.00392157],\n",
       "         [0.00392157],\n",
       "         ...,\n",
       "         [0.00392157],\n",
       "         [0.00392157],\n",
       "         [0.00392157]]]])"
      ]
     },
     "execution_count": 17,
     "metadata": {},
     "output_type": "execute_result"
    }
   ],
   "source": [
    "# Normalizes the image data by scaling pixel values to the range [0, 1].\n",
    "\n",
    "X = np.array(X).astype(float)/255  # Converting pixel values to float and normalizing to range [0, 1]\n",
    "X   # Display the normalized image data"
   ]
  },
  {
   "cell_type": "markdown",
   "metadata": {},
   "source": [
    "### 4. Converting Labels to Numpy Array"
   ]
  },
  {
   "cell_type": "code",
   "execution_count": 18,
   "metadata": {},
   "outputs": [],
   "source": [
    "# Converting labels to numpy array\n",
    "y = np.array(y)   # Convert labels to numpy array for compatibility with MLM "
   ]
  },
  {
   "cell_type": "markdown",
   "metadata": {},
   "source": [
    "### 5. Shape Check"
   ]
  },
  {
   "cell_type": "code",
   "execution_count": 19,
   "metadata": {},
   "outputs": [
    {
     "data": {
      "text/plain": [
       "(7368, 100, 100, 1)"
      ]
     },
     "execution_count": 19,
     "metadata": {},
     "output_type": "execute_result"
    }
   ],
   "source": [
    "# Checking the shape of the image data\n",
    "X.shape"
   ]
  },
  {
   "cell_type": "markdown",
   "metadata": {},
   "source": [
    "### 6. Data Saving"
   ]
  },
  {
   "cell_type": "code",
   "execution_count": 20,
   "metadata": {},
   "outputs": [],
   "source": [
    "# Saving the clean data\n",
    "np.savez('../X_y_clean.npz',   # Save the arrays X and y to a compressed .npz file\n",
    "         X=X, \n",
    "         y=y)"
   ]
  },
  {
   "cell_type": "code",
   "execution_count": null,
   "metadata": {},
   "outputs": [],
   "source": [
    "from tensorflow.keras.preprocessing.image import ImageDataGenerator\n",
    "\n",
    "datagen = ImageDataGenerator(\n",
    "    rotation_range=30,\n",
    "    width_shift_range=0.2,\n",
    "    height_shift_range=0.2,\n",
    "    shear_range=15,\n",
    "    zoom_range=[0.7, 1.4],\n",
    "    horizontal_flip=True,\n",
    "    vertical_flip=True\n",
    ")\n",
    "\n",
    "datagen.fit(X)\n",
    "\n",
    "plt.figure(figsize=(20,8))\n",
    "\n",
    "for imagen, etiqueta in datagen.flow(X, y, batch_size=10, shuffle=False):\n",
    "  for i in range(10):\n",
    "    plt.subplot(2, 5, i+1)\n",
    "    plt.xticks([])\n",
    "    plt.yticks([])\n",
    "    plt.imshow(imagen[i].reshape(100, 100), cmap=\"gray\")\n",
    "  break"
   ]
  },
  {
   "cell_type": "code",
   "execution_count": null,
   "metadata": {},
   "outputs": [],
   "source": [
    "train_size = int(len(X) * 0.80)\n",
    "\n",
    "X_train = X[:train_size]\n",
    "X_test = X[train_size:]\n",
    "\n",
    "y_train = y[:train_size]\n",
    "y_test = y[train_size:]\n",
    "\n",
    "print(f\"Training set size: {len(X_train)}\")\n",
    "print(f\"Test set size: {len(X_test)}\")"
   ]
  },
  {
   "cell_type": "code",
   "execution_count": null,
   "metadata": {},
   "outputs": [],
   "source": [
    "np.savez('../train_test_data.npz', \n",
    "         X_train=X_train, \n",
    "         X_test=X_test, \n",
    "         y_train=y_train, \n",
    "         y_test=y_test)\n"
   ]
  },
  {
   "cell_type": "code",
   "execution_count": null,
   "metadata": {},
   "outputs": [],
   "source": [
    "modelCNN_DA = tf.keras.models.Sequential([\n",
    "  tf.keras.layers.Conv2D(32, (3,3), activation='relu', input_shape=(100, 100, 1)),\n",
    "  tf.keras.layers.MaxPooling2D(2, 2),\n",
    "  tf.keras.layers.Conv2D(64, (3,3), activation='relu'),\n",
    "  tf.keras.layers.MaxPooling2D(2, 2),\n",
    "  tf.keras.layers.Conv2D(128, (3,3), activation='relu'),\n",
    "  tf.keras.layers.MaxPooling2D(2, 2),\n",
    "\n",
    "  tf.keras.layers.Dropout(0.5),\n",
    "  tf.keras.layers.Flatten(),\n",
    "  tf.keras.layers.Dense(250, activation='relu'),\n",
    "  tf.keras.layers.Dense(3, activation='softmax')\n",
    "])"
   ]
  },
  {
   "cell_type": "code",
   "execution_count": null,
   "metadata": {},
   "outputs": [],
   "source": [
    "modelCNN_DA.compile(optimizer='adam',\n",
    "                    loss='sparse_categorical_crossentropy',\n",
    "                    metrics=['accuracy'])"
   ]
  },
  {
   "cell_type": "code",
   "execution_count": null,
   "metadata": {},
   "outputs": [],
   "source": [
    "data_gen_trainning = datagen.flow(X_train, y_train, batch_size=32)"
   ]
  },
  {
   "cell_type": "code",
   "execution_count": null,
   "metadata": {},
   "outputs": [],
   "source": [
    "from tensorflow.keras.callbacks import TensorBoard"
   ]
  },
  {
   "cell_type": "code",
   "execution_count": null,
   "metadata": {},
   "outputs": [],
   "source": [
    "TensorBoardCNN_DA = TensorBoard(log_dir='logs/CNN_DA', histogram_freq=1)\n",
    "modelCNN_DA.fit(data_gen_trainning, batch_size= 32, epochs=100,\n",
    "              validation_data = (X_test, y_test),\n",
    "              steps_per_epoch =int(np.ceil(len(X_train)/float(32))),\n",
    "              validation_steps =int(np.ceil(len(X_test)/float(32))),\n",
    "              callbacks=[TensorBoardCNN_DA])"
   ]
  },
  {
   "cell_type": "code",
   "execution_count": null,
   "metadata": {},
   "outputs": [],
   "source": [
    "%load_ext tensorboard"
   ]
  },
  {
   "cell_type": "code",
   "execution_count": null,
   "metadata": {},
   "outputs": [],
   "source": [
    "%tensorboard --logdir logs"
   ]
  }
 ],
 "metadata": {
  "kernelspec": {
   "display_name": "Python 3",
   "language": "python",
   "name": "python3"
  },
  "language_info": {
   "codemirror_mode": {
    "name": "ipython",
    "version": 3
   },
   "file_extension": ".py",
   "mimetype": "text/x-python",
   "name": "python",
   "nbconvert_exporter": "python",
   "pygments_lexer": "ipython3",
   "version": "3.11.5"
  }
 },
 "nbformat": 4,
 "nbformat_minor": 2
}
