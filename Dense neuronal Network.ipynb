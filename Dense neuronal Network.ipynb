{
 "cells": [
  {
   "cell_type": "code",
   "execution_count": 5,
   "metadata": {},
   "outputs": [],
   "source": [
    "import os\n",
    "import os\n",
    "import numpy as np\n",
    "import pandas as pd\n",
    "from PIL import Image\n",
    "import io\n"
   ]
  },
  {
   "cell_type": "code",
   "execution_count": 8,
   "metadata": {},
   "outputs": [
    {
     "name": "stdout",
     "output_type": "stream",
     "text": [
      "Directory not found: C:\\Users\\ninic\\OneDrive - Lambton College\\Term 2\\3014 - Introduction to Artificial Intelligence 01\\Project\\AI-Project\\Apple_Healthy\n",
      "Directory not found: C:\\Users\\ninic\\OneDrive - Lambton College\\Term 2\\3014 - Introduction to Artificial Intelligence 01\\Project\\AI-Project\\Apple_Rotten\n",
      "Directory not found: C:\\Users\\ninic\\OneDrive - Lambton College\\Term 2\\3014 - Introduction to Artificial Intelligence 01\\Project\\AI-Project\\Banana_Healthy\n",
      "Directory not found: C:\\Users\\ninic\\OneDrive - Lambton College\\Term 2\\3014 - Introduction to Artificial Intelligence 01\\Project\\AI-Project\\Banana_Rotten\n",
      "Directory not found: C:\\Users\\ninic\\OneDrive - Lambton College\\Term 2\\3014 - Introduction to Artificial Intelligence 01\\Project\\AI-Project\\Bellpepper_Healthy\n",
      "Directory not found: C:\\Users\\ninic\\OneDrive - Lambton College\\Term 2\\3014 - Introduction to Artificial Intelligence 01\\Project\\AI-Project\\Bellpepper_Rotten\n",
      "No data collected. Please check the paths and file extensions.\n",
      "No data to display.\n"
     ]
    }
   ],
   "source": [
    "import os\n",
    "import numpy as np\n",
    "import pandas as pd\n",
    "from PIL import Image\n",
    "\n",
    "def extract_fruit_info(base_path, fruits, target_size=(150, 150)):\n",
    "    # List to hold the data\n",
    "    data = []\n",
    "\n",
    "    # Loop through each selected fruit\n",
    "    for fruit in fruits:\n",
    "        for status in ['Healthy', 'Rotten']:\n",
    "            category = f\"{fruit}_{status}\"\n",
    "            category_path = os.path.join(base_path, category)\n",
    "            \n",
    "            # Check if the current path is a directory\n",
    "            if os.path.isdir(category_path):\n",
    "                # Determine if the fruit is rotten based on the directory name\n",
    "                is_rotten = 'Rotten' in category\n",
    "                \n",
    "                # Loop through each file in the category directory\n",
    "                for filename in os.listdir(category_path):\n",
    "                    # Check if the file is an image based on the extension\n",
    "                    if filename.endswith(('.jpg', '.jpeg', '.png')):\n",
    "                        file_path = os.path.join(category_path, filename)\n",
    "                        \n",
    "                        # Open the image to get its size and content\n",
    "                        with Image.open(file_path) as image:\n",
    "                            image = image.resize(target_size)  # Resize image to target size\n",
    "                            image_array = np.array(image)\n",
    "                        \n",
    "                        # Append the data to the list\n",
    "                        data.append([\n",
    "                            filename, \n",
    "                            file_path, \n",
    "                            f\"{image.width}x{image.height}\", \n",
    "                            is_rotten, \n",
    "                            fruit,\n",
    "                            image_array\n",
    "                        ])\n",
    "\n",
    "    # Convert the list to a NumPy array\n",
    "    data_array = np.array(data, dtype=object)\n",
    "    return data_array\n",
    "\n",
    "# Example usage\n",
    "base_path = r\"C:\\Users\\ninic\\OneDrive - Lambton College\\Term 2\\3014 - Introduction to Artificial Intelligence 01\\Project\\Datos\\Fruit And Vegetable Diseases Dataset\"\n",
    "selected_fruits = ['Apple', 'Banana', 'Bellpepper']  # Select 3 fruits\n",
    "\n",
    "data_array = extract_fruit_info(base_path, selected_fruits)\n",
    "\n",
    "# Convert the NumPy array to a DataFrame\n",
    "df = pd.DataFrame(data_array, columns=['file_name', 'image_path', 'image_size', 'is_rotten', 'category', 'image'])\n",
    "\n",
    "# Display the DataFrame\n",
    "print(df.head())\n",
    "\n",
    "# Example to show the shape of an image\n",
    "sample_image = df.loc[0, 'image']\n",
    "print(f\"Sample image shape: {sample_image.shape}\")\n",
    "\n",
    "\n"
   ]
  }
 ],
 "metadata": {
  "kernelspec": {
   "display_name": "Python 3",
   "language": "python",
   "name": "python3"
  },
  "language_info": {
   "codemirror_mode": {
    "name": "ipython",
    "version": 3
   },
   "file_extension": ".py",
   "mimetype": "text/x-python",
   "name": "python",
   "nbconvert_exporter": "python",
   "pygments_lexer": "ipython3",
   "version": "3.11.4"
  }
 },
 "nbformat": 4,
 "nbformat_minor": 2
}
